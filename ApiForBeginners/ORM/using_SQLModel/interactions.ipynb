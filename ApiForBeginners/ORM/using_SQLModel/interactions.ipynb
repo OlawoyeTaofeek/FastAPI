{
 "cells": [
  {
   "cell_type": "code",
   "execution_count": 13,
   "metadata": {},
   "outputs": [],
   "source": [
    "from sqlmodel import select\n",
    "from database import get_session\n",
    "from models import Role, User"
   ]
  },
  {
   "cell_type": "code",
   "execution_count": 14,
   "metadata": {},
   "outputs": [],
   "source": [
    "def insert_role(name: str, description: str):\n",
    "    with get_session() as session:\n",
    "        role = Role(name=name, description=description)\n",
    "        session.add(role)\n",
    "        session.commit()\n",
    "        session.refresh(role)\n",
    "        print(f\"Role Added: {role}\")\n",
    "        return role\n",
    "    \n",
    "def insert_user(name:str, username: str, email: str, password: str, role_id: int):\n",
    "    with get_session() as session:\n",
    "        user = User(name=name, username=username, email=email, password_hash=password, role_id=role_id)\n",
    "        session.add(user)\n",
    "        session.commit()\n",
    "        session.refresh(user)\n",
    "        print(f\"User Added: {user}\")\n",
    "        return user"
   ]
  },
  {
   "cell_type": "code",
   "execution_count": 15,
   "metadata": {},
   "outputs": [
    {
     "name": "stdout",
     "output_type": "stream",
     "text": [
      "Role Added: description='Administrator with full access.' id=1 name='Admin'\n",
      "Role Added: description='Can edit and manage content.' id=2 name='Editor'\n",
      "User Added: id=1 email='alice@example.com' role_id=1 name='Alice Johnson' username='alicej' password_hash='hashed_password1'\n",
      "User Added: id=2 email='bob@example.com' role_id=2 name='Bob Smith' username='bobsmith' password_hash='hashed_password2'\n"
     ]
    },
    {
     "data": {
      "text/plain": [
       "User(id=2, email='bob@example.com', role_id=2, name='Bob Smith', username='bobsmith', password_hash='hashed_password2')"
      ]
     },
     "execution_count": 15,
     "metadata": {},
     "output_type": "execute_result"
    }
   ],
   "source": [
    "# Insert roles\n",
    "admin_role = insert_role(\"Admin\", \"Administrator with full access.\")\n",
    "editor_role = insert_role(\"Editor\", \"Can edit and manage content.\")\n",
    "\n",
    "# Insert users linked to roles\n",
    "insert_user(\"Alice Johnson\", \"alicej\", \"alice@example.com\", \"hashed_password1\", admin_role.id)\n",
    "insert_user(\"Bob Smith\", \"bobsmith\", \"bob@example.com\", \"hashed_password2\", editor_role.id)"
   ]
  },
  {
   "cell_type": "code",
   "execution_count": 16,
   "metadata": {},
   "outputs": [],
   "source": [
    "def get_user(username: str):\n",
    "    with get_session() as session:\n",
    "        statement = select(User).where(User.username == username)\n",
    "        user = session.exec(statement).first()\n",
    "        return user\n",
    "    \n",
    "user = get_user(\"alicej\")"
   ]
  },
  {
   "cell_type": "code",
   "execution_count": 17,
   "metadata": {},
   "outputs": [
    {
     "data": {
      "text/plain": [
       "User(id=1, email='alice@example.com', role_id=1, name='Alice Johnson', username='alicej', password_hash='hashed_password1')"
      ]
     },
     "execution_count": 17,
     "metadata": {},
     "output_type": "execute_result"
    }
   ],
   "source": [
    "user"
   ]
  },
  {
   "cell_type": "code",
   "execution_count": 18,
   "metadata": {},
   "outputs": [
    {
     "data": {
      "text/plain": [
       "'Alice Johnson'"
      ]
     },
     "execution_count": 18,
     "metadata": {},
     "output_type": "execute_result"
    }
   ],
   "source": [
    "user.name"
   ]
  },
  {
   "cell_type": "code",
   "execution_count": 19,
   "metadata": {},
   "outputs": [
    {
     "name": "stdout",
     "output_type": "stream",
     "text": [
      "User: Alice Johnson, Role: Admin, Description: Administrator with full access.\n"
     ]
    }
   ],
   "source": [
    "## To have access to role of user: use Eager Loading\n",
    "from sqlalchemy.orm import selectinload\n",
    "from sqlmodel import select\n",
    "\n",
    "def get_user(username: str):\n",
    "    with get_session() as session:\n",
    "        statement = (\n",
    "            select(User)\n",
    "            .where(User.username == username)\n",
    "            .options(selectinload(User.role))  # Eager load the role\n",
    "        )\n",
    "        user = session.exec(statement).first()\n",
    "        return user\n",
    "\n",
    "user = get_user(\"alicej\")\n",
    "\n",
    "if user and user.role:\n",
    "    print(f\"User: {user.name}, Role: {user.role.name}, Description: {user.role.description}\")\n",
    "else:\n",
    "    print(\"User or role not found.\")"
   ]
  },
  {
   "cell_type": "code",
   "execution_count": null,
   "metadata": {},
   "outputs": [],
   "source": []
  }
 ],
 "metadata": {
  "kernelspec": {
   "display_name": "api_env",
   "language": "python",
   "name": "python3"
  },
  "language_info": {
   "codemirror_mode": {
    "name": "ipython",
    "version": 3
   },
   "file_extension": ".py",
   "mimetype": "text/x-python",
   "name": "python",
   "nbconvert_exporter": "python",
   "pygments_lexer": "ipython3",
   "version": "3.10.11"
  }
 },
 "nbformat": 4,
 "nbformat_minor": 2
}
