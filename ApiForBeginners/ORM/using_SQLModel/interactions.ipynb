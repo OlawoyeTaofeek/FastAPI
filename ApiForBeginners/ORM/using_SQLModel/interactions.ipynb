{
 "cells": [
  {
   "cell_type": "code",
   "execution_count": 15,
   "metadata": {},
   "outputs": [],
   "source": [
    "from sqlmodel import select\n",
    "from database import get_session\n",
    "from models import Role, User"
   ]
  },
  {
   "cell_type": "code",
   "execution_count": 18,
   "metadata": {},
   "outputs": [],
   "source": [
    "def insert_role(name: str, description: str):\n",
    "    session = next(get_session())  # Get the actual session from the generator\n",
    "    try:\n",
    "        role = Role(name=name, description=description)\n",
    "        session.add(role)\n",
    "        session.commit()\n",
    "        session.refresh(role)\n",
    "        return role\n",
    "    finally:\n",
    "        session.close()\n",
    "\n",
    "    \n",
    "def insert_user(name:str, username: str, email: str, password: str, role_id: int):\n",
    "        session = next(get_session())\n",
    "        user = User(name=name, username=username, email=email, password_hash=password, role_id=role_id)\n",
    "        session.add(user)\n",
    "        session.commit()\n",
    "        session.refresh(user)\n",
    "        print(f\"User Added: {user}\")\n",
    "        return user"
   ]
  },
  {
   "cell_type": "code",
   "execution_count": 19,
   "metadata": {},
   "outputs": [],
   "source": [
    "# Insert roles\n",
    "admin_role = insert_role(\"Admin\", \"Administrator with full access.\")\n",
    "editor_role = insert_role(\"Editor\", \"Can edit and manage content.\")\n",
    "\n",
    "# # Insert users linked to roles\n",
    "# insert_user(\"Alice Johnson\", \"alicej\", \"alice@example.com\", \"hashed_password1\", admin_role.id)\n",
    "# insert_user(\"Bob Smith\", \"bobsmith\", \"bob@example.com\", \"hashed_password2\", editor_role.id)"
   ]
  },
  {
   "cell_type": "code",
   "execution_count": 21,
   "metadata": {},
   "outputs": [],
   "source": [
    "def get_user(username: str):\n",
    "        session = next(get_session())  # Get the actual session from the generator\n",
    "        statement = select(User).where(User.username == username)\n",
    "        user = session.exec(statement).first()\n",
    "        return user\n",
    "    \n",
    "user = get_user(\"alicej\")"
   ]
  },
  {
   "cell_type": "code",
   "execution_count": 22,
   "metadata": {},
   "outputs": [
    {
     "data": {
      "text/plain": [
       "User(name='Alice Johnson', username='alicej', password_hash='$2b$12$k8WfgAwGj5pvKcaKpI1H0Om523lmft1wF0374Ncygz6vj2WAsIFEq', id=1, email='alice@example.com', role_id=1)"
      ]
     },
     "execution_count": 22,
     "metadata": {},
     "output_type": "execute_result"
    }
   ],
   "source": [
    "user"
   ]
  },
  {
   "cell_type": "code",
   "execution_count": 23,
   "metadata": {},
   "outputs": [
    {
     "data": {
      "text/plain": [
       "'Alice Johnson'"
      ]
     },
     "execution_count": 23,
     "metadata": {},
     "output_type": "execute_result"
    }
   ],
   "source": [
    "user.name"
   ]
  },
  {
   "cell_type": "code",
   "execution_count": null,
   "metadata": {},
   "outputs": [
    {
     "name": "stdout",
     "output_type": "stream",
     "text": [
      "User: Alice Johnson, Role: Admin, Description: Administrator with full access.\n"
     ]
    }
   ],
   "source": [
    "## To have access to role of user: use Eager Loading\n",
    "from sqlalchemy.orm import selectinload\n",
    "from sqlmodel import select\n",
    "\n",
    "def get_user(username: str):\n",
    "        session = next(get_session())  # Get the actual session from the generator\n",
    "        statement = (\n",
    "            select(User)\n",
    "            .where(User.username == username)\n",
    "            .options(selectinload(User.role))  # Eager load the role\n",
    "        )\n",
    "        user = session.exec(statement).first()\n",
    "        return user\n",
    "\n",
    "user = get_user(\"alicej\")\n",
    "\n",
    "if user and user.role:\n",
    "    print(f\"User: {user.name}, Role: {user.role.name}, Description: {user.role.description}\")\n",
    "else:\n",
    "    print(\"User or role not found.\")"
   ]
  },
  {
   "cell_type": "markdown",
   "metadata": {},
   "source": [
    "## Advanced Python Tutorial: Context Manager and, Decorators\n",
    "The `contextlib` module provides utilities for working with context managers, which manage resources like files or database connections using the `with` statement."
   ]
  },
  {
   "cell_type": "code",
   "execution_count": 26,
   "metadata": {},
   "outputs": [],
   "source": [
    "from contextlib import contextmanager\n",
    "\n",
    "@contextmanager\n",
    "def open_file(file, mode):\n",
    "    f = open(file, mode)\n",
    "    try:\n",
    "        yield f\n",
    "    finally:\n",
    "        f.close()\n",
    "\n",
    "with open_file('example.txt', 'w') as f:\n",
    "    f.write('Hello, World!')"
   ]
  },
  {
   "cell_type": "markdown",
   "metadata": {},
   "source": [
    "Here, `contextlib` helps manage file opening and closing, avoiding manual cleanup."
   ]
  },
  {
   "cell_type": "code",
   "execution_count": 28,
   "metadata": {},
   "outputs": [],
   "source": [
    "from sqlmodel import Session\n",
    "from database import engine"
   ]
  },
  {
   "cell_type": "code",
   "execution_count": 29,
   "metadata": {},
   "outputs": [],
   "source": [
    "@contextmanager\n",
    "def get_session():\n",
    "    session = Session(engine)\n",
    "    try:\n",
    "        yield session\n",
    "        session.commit()   # Commit if all operations succeed\n",
    "    except Exception as e:\n",
    "        session.rollback() # Rollback if any operation fails\n",
    "        raise e\n",
    "    finally:\n",
    "        session.close()    # Always close the session"
   ]
  },
  {
   "cell_type": "code",
   "execution_count": null,
   "metadata": {},
   "outputs": [],
   "source": [
    "with get_session() as session:\n",
    "    new_user = User(name=\"Taofeek\", email=\"taofeek@example.com\")\n",
    "    session.add(new_user)"
   ]
  },
  {
   "cell_type": "code",
   "execution_count": null,
   "metadata": {},
   "outputs": [],
   "source": [
    "@contextmanager\n",
    "def get_session():\n",
    "    with Session(engine) as session:\n",
    "        yield session\n"
   ]
  },
  {
   "cell_type": "markdown",
   "metadata": {},
   "source": [
    "`@contextmanager`: is a decorator that simplifies the process of creating a context manager. When you decorate a function with `@contextmanager`, it becomes a context manager function.\n",
    "\n",
    "- Turns the `get_session` function into a context manager, allowing it to be used with a `with` statement."
   ]
  },
  {
   "cell_type": "markdown",
   "metadata": {},
   "source": [
    "`with Session(engine) as session`:\n",
    "\n",
    "- This line creates a new database session using `Session(engine)` (commonly from SQLAlchemy).\n",
    "- The `with` statement ensures that session.close() is automatically called, releasing database resources.\n",
    "\n",
    "`yield session`:\n",
    "\n",
    "- Temporarily **returns the session** to the calling block so you can run queries.\n",
    "- After the `with` block completes (successfully or with an error), the session is **closed automatically**"
   ]
  },
  {
   "cell_type": "code",
   "execution_count": null,
   "metadata": {},
   "outputs": [],
   "source": []
  },
  {
   "cell_type": "code",
   "execution_count": null,
   "metadata": {},
   "outputs": [],
   "source": []
  }
 ],
 "metadata": {
  "kernelspec": {
   "display_name": "api_env",
   "language": "python",
   "name": "python3"
  },
  "language_info": {
   "codemirror_mode": {
    "name": "ipython",
    "version": 3
   },
   "file_extension": ".py",
   "mimetype": "text/x-python",
   "name": "python",
   "nbconvert_exporter": "python",
   "pygments_lexer": "ipython3",
   "version": "3.10.11"
  }
 },
 "nbformat": 4,
 "nbformat_minor": 2
}
