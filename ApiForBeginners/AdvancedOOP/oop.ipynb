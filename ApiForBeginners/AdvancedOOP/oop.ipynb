{
 "cells": [
  {
   "cell_type": "code",
   "execution_count": null,
   "metadata": {},
   "outputs": [],
   "source": [
    "## setatrrs\n",
    "class Post:\n",
    "    def __init__(self, title, author):\n",
    "        self.title = title\n",
    "        self.author = author\n",
    "\n",
    "post = Post(\"FastAPI Guide\", \"John Doe\")\n",
    "print(post.title)\n",
    "\n",
    "# Manually updating an attribute\n",
    "post.title = \"Updated FastAPI Guide\"\n",
    "print(post.title)  # Output: Updated FastAPI Guide"
   ]
  },
  {
   "cell_type": "markdown",
   "metadata": {},
   "source": [
    "## setattrs syntax: \n",
    "```python\n",
    "setattr(object, attribute_name, value)\n",
    "```\n",
    "\n",
    "- `object` → The object whose attribute you want to modify.\n",
    "- `attribute_name` → The name of the attribute (as a string).\n",
    "- `value` → The new value to assign to that attribute."
   ]
  },
  {
   "cell_type": "code",
   "execution_count": null,
   "metadata": {},
   "outputs": [],
   "source": [
    "setattr(post, \"title\", \"Updated FastAPI Guide using setattr\")\n",
    "print(post.title)  # Output: Updated FastAPI Guide\n",
    "\n",
    "\n",
    "# Imagine you receive updated fields as a dictionary:\n",
    "updates = {\"title\": \"New Title\", \"author\": \"Alice\"}\n",
    "for key, value in updates.items():\n",
    "    setattr(post, key, value)  # Updates post.title and post.author\n",
    "\n",
    "print(post.title)   # Output: New Title\n",
    "print(post.author)  # Output: Alice"
   ]
  },
  {
   "cell_type": "code",
   "execution_count": 25,
   "metadata": {},
   "outputs": [],
   "source": [
    "from pydantic import BaseModel, Field\n",
    "from typing import Union, Optional, Dict\n",
    "import datetime\n",
    "\n",
    "class Post(BaseModel):\n",
    "    id: int\n",
    "    author: str\n",
    "    title: str\n",
    "    content: str\n",
    "    published_date: datetime.datetime = Field(default_factory=datetime.datetime.now)\n",
    "    rating: Optional[float] = None"
   ]
  },
  {
   "cell_type": "code",
   "execution_count": 26,
   "metadata": {},
   "outputs": [],
   "source": [
    "my_post =  {\n",
    "            \"id\": 1,\n",
    "            \"author\": \"John Doe\",\n",
    "            \"title\": \"FastAPI Guide\",\n",
    "            \"content\": \"FastAPI makes APIs easy!\",\n",
    "            \"published_date\": \"2025-02-01T10:30:45\",\n",
    "            \"rating\": 4.5\n",
    "        }\n",
    "\n",
    "post = Post(**my_post)\n",
    "post = post.model_dump()"
   ]
  },
  {
   "cell_type": "code",
   "execution_count": 27,
   "metadata": {},
   "outputs": [
    {
     "data": {
      "text/plain": [
       "{'id': 1,\n",
       " 'author': 'John Doe',\n",
       " 'title': 'FastAPI Guide',\n",
       " 'content': 'FastAPI makes APIs easy!',\n",
       " 'published_date': datetime.datetime(2025, 2, 1, 10, 30, 45),\n",
       " 'rating': 4.5}"
      ]
     },
     "execution_count": 27,
     "metadata": {},
     "output_type": "execute_result"
    }
   ],
   "source": [
    "post"
   ]
  },
  {
   "cell_type": "code",
   "execution_count": 28,
   "metadata": {},
   "outputs": [],
   "source": [
    "class PostUpdate(BaseModel):\n",
    "    author: Optional[str] = None\n",
    "    title: Optional[str] = None\n",
    "    content: Optional[str] = None\n",
    "    rating: Optional[float] = None"
   ]
  },
  {
   "cell_type": "code",
   "execution_count": 29,
   "metadata": {},
   "outputs": [
    {
     "data": {
      "text/plain": [
       "{'author': 'Alice',\n",
       " 'title': 'Updated FastAPI Guide',\n",
       " 'content': 'FastAPI makes APIs even more awesome!',\n",
       " 'rating': 5.0}"
      ]
     },
     "execution_count": 29,
     "metadata": {},
     "output_type": "execute_result"
    }
   ],
   "source": [
    "update_post = {\n",
    "    \"author\": \"Alice\",\n",
    "    \"title\": \"Updated FastAPI Guide\",\n",
    "    \"content\": \"FastAPI makes APIs even more awesome!\",\n",
    "    \"rating\": 5.0\n",
    "}\n",
    "\n",
    "updated_post = PostUpdate(**update_post)\n",
    "new_posts = updated_post.model_dump()\n",
    "new_posts"
   ]
  },
  {
   "cell_type": "code",
   "execution_count": 30,
   "metadata": {},
   "outputs": [],
   "source": [
    "post.update(new_posts)"
   ]
  },
  {
   "cell_type": "code",
   "execution_count": 32,
   "metadata": {},
   "outputs": [
    {
     "data": {
      "text/plain": [
       "{'id': 1,\n",
       " 'author': 'Alice',\n",
       " 'title': 'Updated FastAPI Guide',\n",
       " 'content': 'FastAPI makes APIs even more awesome!',\n",
       " 'published_date': datetime.datetime(2025, 2, 1, 10, 30, 45),\n",
       " 'rating': 5.0}"
      ]
     },
     "execution_count": 32,
     "metadata": {},
     "output_type": "execute_result"
    }
   ],
   "source": [
    "post"
   ]
  },
  {
   "cell_type": "code",
   "execution_count": 33,
   "metadata": {},
   "outputs": [
    {
     "data": {
      "text/plain": [
       "Post(id=1, author='Alice', title='Updated FastAPI Guide', content='FastAPI makes APIs even more awesome!', published_date=datetime.datetime(2025, 2, 1, 10, 30, 45), rating=5.0)"
      ]
     },
     "execution_count": 33,
     "metadata": {},
     "output_type": "execute_result"
    }
   ],
   "source": [
    "post = Post(**post)\n",
    "post"
   ]
  },
  {
   "cell_type": "code",
   "execution_count": 34,
   "metadata": {},
   "outputs": [
    {
     "data": {
      "text/plain": [
       "'Alice'"
      ]
     },
     "execution_count": 34,
     "metadata": {},
     "output_type": "execute_result"
    }
   ],
   "source": [
    "post.author"
   ]
  },
  {
   "cell_type": "code",
   "execution_count": 35,
   "metadata": {},
   "outputs": [
    {
     "data": {
      "text/plain": [
       "'Updated FastAPI Guide'"
      ]
     },
     "execution_count": 35,
     "metadata": {},
     "output_type": "execute_result"
    }
   ],
   "source": [
    "post.title"
   ]
  },
  {
   "cell_type": "code",
   "execution_count": 36,
   "metadata": {},
   "outputs": [
    {
     "data": {
      "text/plain": [
       "'FastAPI makes APIs even more awesome!'"
      ]
     },
     "execution_count": 36,
     "metadata": {},
     "output_type": "execute_result"
    }
   ],
   "source": [
    "post.content"
   ]
  },
  {
   "cell_type": "code",
   "execution_count": null,
   "metadata": {},
   "outputs": [],
   "source": []
  }
 ],
 "metadata": {
  "kernelspec": {
   "display_name": "api_env",
   "language": "python",
   "name": "python3"
  },
  "language_info": {
   "codemirror_mode": {
    "name": "ipython",
    "version": 3
   },
   "file_extension": ".py",
   "mimetype": "text/x-python",
   "name": "python",
   "nbconvert_exporter": "python",
   "pygments_lexer": "ipython3",
   "version": "3.10.11"
  }
 },
 "nbformat": 4,
 "nbformat_minor": 2
}
