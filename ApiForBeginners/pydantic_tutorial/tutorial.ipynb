{
 "cells": [
  {
   "cell_type": "markdown",
   "metadata": {},
   "source": [
    "# 📌 Understanding `Annotated` in Python\n",
    "\n",
    "## 🔹 What is `Annotated`?\n",
    "`Annotated` is a feature introduced in **Python 3.9** (backported in `typing_extensions` for older versions). It allows us to attach **metadata** to type hints, which can be used by tools like **Pydantic** or static type checkers to enforce additional constraints.\n",
    "\n",
    "### ✅ Basic Syntax\n",
    "```python\n",
    "from typing import Annotated\n",
    "\n",
    "CustomType = Annotated[int, \"Some metadata\"]\n",
    "```\n",
    "\n",
    "This does not change the actual type (int in this case) but adds extra metadata that external tools can use."
   ]
  },
  {
   "cell_type": "code",
   "execution_count": null,
   "metadata": {},
   "outputs": [],
   "source": [
    "from typing import Annotated\n",
    "\n",
    "def process_age(age: Annotated[int, \"Age must be a positive integer\"]) -> str:\n",
    "    return f\"Age: {age}\"\n",
    "\n",
    "print(process_age(25))  # Output: Age: 25"
   ]
  },
  {
   "cell_type": "markdown",
   "metadata": {},
   "source": [
    "Here, the **metadata** `\"Age must be a positive integer\"` is added but does not enforce validation—it is just a hint for developers or tools."
   ]
  },
  {
   "cell_type": "markdown",
   "metadata": {},
   "source": [
    "# 🔍 Understanding `Annotated` in Python\n",
    "\n",
    "The `Annotated` type hint in Python is a powerful tool that allows us to attach metadata, constraints, and validation logic to types. While many think `Annotated` is only for metadata, it can also be used with **Pydantic validation**, `Field`, and even custom functions.\n",
    "\n",
    "---\n",
    "\n",
    "## 🚀 Why Use `Annotated`?  \n",
    "\n",
    "`Annotated` enhances type hints by allowing additional information that tools and libraries (like Pydantic) can use for validation, constraints, or documentation.\n",
    "\n",
    "---\n",
    "\n",
    "## 🔥 Beyond Metadata: Other Uses of `Annotated`\n",
    "\n",
    "### 2 Using `Annotated` with `Field`  \n",
    "In **Pydantic**, we can use `Field` to add validation and constraints.\n",
    "\n",
    "```python\n",
    "from typing import Annotated\n",
    "from pydantic import BaseModel, Field\n",
    "\n",
    "class User(BaseModel):\n",
    "    age: Annotated[int, Field(gt=18, description=\"Age must be greater than 18\")]\n",
    "\n",
    "# ✅ Valid: User(age=25)\n",
    "# ❌ Invalid: User(age=17) -> Raises validation error"
   ]
  },
  {
   "cell_type": "code",
   "execution_count": null,
   "metadata": {},
   "outputs": [],
   "source": [
    "from typing import Annotated\n",
    "from pydantic import BaseModel, Field\n",
    "\n",
    "class User(BaseModel):\n",
    "    age: Annotated[int, Field(gt=0, lt=120)]  # Age must be between 1 and 119\n",
    "\n",
    "user = User(age=25)  # ✅ Works fine"
   ]
  },
  {
   "cell_type": "code",
   "execution_count": null,
   "metadata": {},
   "outputs": [],
   "source": [
    "user = User(age=150)  # ❌ Raises validation error"
   ]
  },
  {
   "cell_type": "markdown",
   "metadata": {},
   "source": [
    "### 3. Using Annotated with Custom Functions"
   ]
  },
  {
   "cell_type": "code",
   "execution_count": null,
   "metadata": {},
   "outputs": [],
   "source": [
    "from typing import Annotated\n",
    "\n",
    "def validate_age(value: int) -> int:\n",
    "    if value < 0:\n",
    "        raise ValueError(\"Age cannot be negative\")\n",
    "    return value\n",
    "\n",
    "AgeType = Annotated[int, validate_age]  # ❌ This alone does nothing at runtime\n",
    "\n",
    "def set_age(age: int) -> str:\n",
    "    age = validate_age(age)  # ✅ Explicitly apply validation\n",
    "    return f\"User age is {age}\"\n",
    "\n",
    "print(set_age(-5))  # ❌ Raises ValueError: \"Age cannot be negative\""
   ]
  },
  {
   "cell_type": "markdown",
   "metadata": {},
   "source": [
    "🔥 Key Takeaways\n",
    "✔ `Annotated` **does not enforce rules by itself** but provides metadata for validation tools.\n",
    "✔ Can be used with `pydantic`, `Field`, or custom validation functions.\n",
    "✔ Helps in making `type hints more descriptive` for documentation and static analysis."
   ]
  },
  {
   "cell_type": "code",
   "execution_count": null,
   "metadata": {},
   "outputs": [],
   "source": [
    "import annotated_types\n",
    "PositiveInt = Annotated[int, annotated_types.Gt(0)]\n"
   ]
  },
  {
   "cell_type": "markdown",
   "metadata": {},
   "source": [
    "## 🔥 Using `Annotated` with `annotated_types`\n",
    "\n",
    "`annotated_types` provides constraints like:\n",
    "\n",
    "- **`Gt(value)`**: Greater than a specific value  \n",
    "- **`Ge(value)`**: Greater than or equal to a value  \n",
    "- **`Lt(value)`**: Less than a specific value  \n",
    "- **`Le(value)`**: Less than or equal to a value  \n",
    "- **`Interval(ge=a, le=b)`**: Restrict values within a range  "
   ]
  },
  {
   "cell_type": "code",
   "execution_count": null,
   "metadata": {},
   "outputs": [],
   "source": [
    "from typing import Annotated\n",
    "from annotated_types import Gt  # Gt (Greater than) enforces a value > 0\n",
    "\n",
    "PositiveInt = Annotated[int, Gt(0)]\n",
    "\n",
    "def process_age(age: PositiveInt) -> str:\n",
    "    return f\"User age: {age}\"\n",
    "\n",
    "print(process_age(25))  # ✅ Works fine"
   ]
  },
  {
   "cell_type": "code",
   "execution_count": null,
   "metadata": {},
   "outputs": [],
   "source": [
    "print(process_age(-5))  # ❌ Raises an error if validated using a framework"
   ]
  },
  {
   "cell_type": "code",
   "execution_count": null,
   "metadata": {},
   "outputs": [],
   "source": [
    "from pydantic import BaseModel\n",
    "from typing import Annotated\n",
    "from annotated_types import Gt\n",
    "\n",
    "class User(BaseModel):\n",
    "    age: Annotated[int, Gt(0)]  # Ensures age is > 0\n",
    "\n",
    "user = User(age=30)  # ✅ Works\n",
    "user.age"
   ]
  },
  {
   "cell_type": "code",
   "execution_count": null,
   "metadata": {},
   "outputs": [],
   "source": [
    "user = User(age=-5)  # ❌ Raises validation error"
   ]
  },
  {
   "cell_type": "code",
   "execution_count": null,
   "metadata": {},
   "outputs": [],
   "source": [
    "from typing import Annotated\n",
    "from annotated_types import Gt, Le\n",
    "\n",
    "PositiveInt = Annotated[int, Gt(0)]\n",
    "LimitedFloat = Annotated[float, Gt(0), Le(100)]  # Value must be between 0 and 100\n",
    "class Score(BaseModel):\n",
    "    score : PositiveInt\n",
    "\n",
    "Score(score=85.5)\n"
   ]
  },
  {
   "cell_type": "code",
   "execution_count": null,
   "metadata": {},
   "outputs": [],
   "source": [
    "from typing import Annotated\n",
    "from annotated_types import Gt, Le\n",
    "from pydantic import BaseModel\n",
    "\n",
    "PositiveInt = Annotated[int, Gt(0)]\n",
    "LimitedFloat = Annotated[float, Gt(0), Le(100)]  # Float between 0 and 100\n",
    "\n",
    "class Score(BaseModel):\n",
    "    score: LimitedFloat  # ✅ Accepts both int and float in range\n",
    "\n",
    "print(Score(score=85.5))  # ✅ Works fine"
   ]
  },
  {
   "cell_type": "code",
   "execution_count": null,
   "metadata": {},
   "outputs": [],
   "source": [
    "print(Score(score=150))   # ❌ Raises ValidationError (out of range)\n",
    "# print(Score(score=-5))    # ❌ Raises ValidationError (negative)"
   ]
  },
  {
   "cell_type": "markdown",
   "metadata": {},
   "source": [
    "## Pydantic Revision"
   ]
  },
  {
   "cell_type": "code",
   "execution_count": null,
   "metadata": {},
   "outputs": [],
   "source": [
    "from datetime import datetime\n",
    "\n",
    "from pydantic import BaseModel, PositiveInt\n",
    "\n",
    "\n",
    "class User(BaseModel):\n",
    "    id: int  \n",
    "    name: str = 'John Doe'  \n",
    "    signup_ts: datetime | None  \n",
    "    tastes: dict[str, PositiveInt]  \n",
    "\n",
    "\n",
    "external_data = {\n",
    "    'id': 123,\n",
    "    'signup_ts': '2019-06-01 12:22',  \n",
    "    'tastes': {\n",
    "        'wine': 9,\n",
    "        b'cheese': 7,  \n",
    "        'cabbage': '1',  \n",
    "    },\n",
    "}\n",
    "\n",
    "user = User(**external_data)  \n",
    "\n",
    "print(user.id)  \n",
    "print(user.model_dump())  "
   ]
  },
  {
   "cell_type": "markdown",
   "metadata": {},
   "source": [
    "If validation fails, Pydantic will raise an error with a breakdown of what was wrong:"
   ]
  },
  {
   "cell_type": "code",
   "execution_count": null,
   "metadata": {},
   "outputs": [],
   "source": [
    "# continuing the above example...\n",
    "\n",
    "from datetime import datetime\n",
    "from pydantic import BaseModel, PositiveInt, ValidationError\n",
    "\n",
    "\n",
    "class User(BaseModel):\n",
    "    id: int\n",
    "    name: str = 'John Doe'\n",
    "    signup_ts: datetime | None\n",
    "    tastes: dict[str, PositiveInt]\n",
    "\n",
    "\n",
    "external_data = {'id': 'not an int', 'tastes': {}}  \n",
    "\n",
    "try:\n",
    "    User(**external_data)\n",
    "except ValidationError as e:\n",
    "    print(e.json(indent=2))  "
   ]
  },
  {
   "cell_type": "code",
   "execution_count": null,
   "metadata": {},
   "outputs": [],
   "source": []
  },
  {
   "cell_type": "code",
   "execution_count": 10,
   "metadata": {},
   "outputs": [
    {
     "name": "stdout",
     "output_type": "stream",
     "text": [
      "[1, 2, 2, 2, 3, 4, 4, 5, 5, 6, 6, 7, 9, 11, 19]\n"
     ]
    }
   ],
   "source": [
    "from typing import List\n",
    "def sort_numbers(numbers: List[int]) -> List[int]:\n",
    "    my_list, num = [], min(numbers)\n",
    "    while numbers:\n",
    "        num = min(numbers)\n",
    "        my_list.append(num)\n",
    "        numbers.remove(num)\n",
    "    return my_list\n",
    "\n",
    "print(sort_numbers([1, 5, 3, 2, 4, 11, 19, 9, 2, 5, 6, 7, 4, 2, 6]))"
   ]
  },
  {
   "cell_type": "code",
   "execution_count": 19,
   "metadata": {},
   "outputs": [
    {
     "name": "stdout",
     "output_type": "stream",
     "text": [
      "[2.82, 3.14, 6.433, 7.9, 21.554, 21.555]\n"
     ]
    }
   ],
   "source": [
    "def sort_decimals(numbers: List[float]) -> List[float]:\n",
    "    sorted_decimals = []\n",
    "    while numbers:\n",
    "        smallest = numbers[0]\n",
    "        for number in numbers:\n",
    "            if number < smallest:\n",
    "                smallest = number\n",
    "        sorted_decimals.append(smallest)\n",
    "        numbers.remove(smallest)\n",
    "    return sorted_decimals\n",
    "\n",
    "print(sort_decimals([3.14, 2.82, 6.433, 7.9, 21.555, 21.554]))"
   ]
  },
  {
   "cell_type": "code",
   "execution_count": null,
   "metadata": {},
   "outputs": [],
   "source": [
    "def sort_numbers(numbers: List[int]) -> List[int]:\n",
    "    my_list, num = [], min(numbers)\n",
    "    while numbers:\n",
    "        num = min(numbers)\n",
    "        my_list.append(num)\n",
    "        numbers.remove(num)\n",
    "    return my_list\n",
    "\n",
    "print(sort_numbers([1, 5, 3, 2, 4, 11, 19, 9, 2, 5, 6, 7, 4, 2, 6]))"
   ]
  },
  {
   "cell_type": "code",
   "execution_count": 12,
   "metadata": {},
   "outputs": [
    {
     "name": "stdout",
     "output_type": "stream",
     "text": [
      "['apple', 'banana', 'blueberry', 'cherry', 'kiwi', 'pear', 'watermelon', 'zucchini']\n"
     ]
    }
   ],
   "source": [
    "def sort_words(words: List[str]) -> List[str]:\n",
    "    sorted_list = []\n",
    "    while words:\n",
    "        smallest = words[0]\n",
    "        for word in words:\n",
    "            if word < smallest:\n",
    "                smallest = word\n",
    "        sorted_list.append(smallest)\n",
    "        words.remove(smallest)\n",
    "    return sorted_list\n",
    "print(sort_words([\"cherry\", \"apple\", \"blueberry\", \"banana\", \"watermelon\", \"zucchini\", \"kiwi\", \"pear\"]))\n"
   ]
  },
  {
   "cell_type": "code",
   "execution_count": null,
   "metadata": {},
   "outputs": [],
   "source": [
    "from typing import List\n",
    "\n",
    "\n",
    "def sort_words(words: List[str]) -> List[str]:\n",
    "    sorted_list = []\n",
    "    while words:\n",
    "        smallest = words[0]\n",
    "        for word in words:\n",
    "            if word < smallest:\n",
    "                smallest = word\n",
    "        sorted_list.append(smallest)\n",
    "        words.remove(smallest)\n",
    "    return sorted_list\n",
    "\n",
    "def sort_numbers(numbers: List[int]) -> List[int]:\n",
    "    my_list, num = [], min(numbers)\n",
    "    while numbers:\n",
    "        num = min(numbers)\n",
    "        my_list.append(num)\n",
    "        numbers.remove(num)\n",
    "    return my_list\n",
    "\n",
    "def sort_decimals(numbers: List[float]) -> List[float]:\n",
    "    my_list, num = [], min(numbers)\n",
    "    while numbers:\n",
    "        num = min(numbers)\n",
    "        my_list.append(num)\n",
    "        numbers.remove(num)\n",
    "    return my_list\n",
    "\n",
    "\n",
    "\n",
    "# do not modify below this line\n",
    "print(sort_words([\"cherry\", \"apple\", \"blueberry\", \"banana\", \"watermelon\", \"zucchini\", \"kiwi\", \"pear\"]))\n",
    "\n",
    "print(sort_numbers([1, 5, 3, 2, 4, 11, 19, 9, 2, 5, 6, 7, 4, 2, 6]))\n",
    "\n",
    "print(sort_decimals([3.14, 2.82, 6.433, 7.9, 21.555, 21.554]))\n"
   ]
  },
  {
   "cell_type": "code",
   "execution_count": null,
   "metadata": {},
   "outputs": [],
   "source": []
  }
 ],
 "metadata": {
  "kernelspec": {
   "display_name": "api_env",
   "language": "python",
   "name": "python3"
  },
  "language_info": {
   "codemirror_mode": {
    "name": "ipython",
    "version": 3
   },
   "file_extension": ".py",
   "mimetype": "text/x-python",
   "name": "python",
   "nbconvert_exporter": "python",
   "pygments_lexer": "ipython3",
   "version": "3.10.11"
  }
 },
 "nbformat": 4,
 "nbformat_minor": 2
}
