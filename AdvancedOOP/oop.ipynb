{
 "cells": [
  {
   "cell_type": "code",
   "execution_count": null,
   "metadata": {},
   "outputs": [
    {
     "name": "stdout",
     "output_type": "stream",
     "text": [
      "FastAPI Guide\n",
      "Updated FastAPI Guide\n"
     ]
    }
   ],
   "source": [
    "## setatrrs\n",
    "class Post:\n",
    "    def __init__(self, title, author):\n",
    "        self.title = title\n",
    "        self.author = author\n",
    "\n",
    "post = Post(\"FastAPI Guide\", \"John Doe\")\n",
    "print(post.title)\n",
    "\n",
    "# Manually updating an attribute\n",
    "post.title = \"Updated FastAPI Guide\"\n",
    "print(post.title)  # Output: Updated FastAPI Guide"
   ]
  },
  {
   "cell_type": "markdown",
   "metadata": {},
   "source": [
    "## setattrs syntax: \n",
    "```python\n",
    "setattr(object, attribute_name, value)\n",
    "```\n",
    "\n",
    "- `object` → The object whose attribute you want to modify.\n",
    "- `attribute_name` → The name of the attribute (as a string).\n",
    "- `value` → The new value to assign to that attribute."
   ]
  },
  {
   "cell_type": "code",
   "execution_count": null,
   "metadata": {},
   "outputs": [
    {
     "name": "stdout",
     "output_type": "stream",
     "text": [
      "Updated FastAPI Guide using setattr\n",
      "New Title\n",
      "Alice\n"
     ]
    }
   ],
   "source": [
    "setattr(post, \"title\", \"Updated FastAPI Guide using setattr\")\n",
    "print(post.title)  # Output: Updated FastAPI Guide\n",
    "\n",
    "\n",
    "# Imagine you receive updated fields as a dictionary:\n",
    "updates = {\"title\": \"New Title\", \"author\": \"Alice\"}\n",
    "for key, value in updates.items():\n",
    "    setattr(post, key, value)  # Updates post.title and post.author\n",
    "\n",
    "print(post.title)   # Output: New Title\n",
    "print(post.author)  # Output: Alice"
   ]
  },
  {
   "cell_type": "code",
   "execution_count": null,
   "metadata": {},
   "outputs": [],
   "source": [
    "from pydantic import BaseModel\n",
    "from typing import Union, Optional, Dict\n",
    "from datetime import datetime\n",
    "\n",
    "class Post(BaseModel):\n",
    "    id: int\n",
    "    author: str\n",
    "    title: str\n",
    "    content: str\n",
    "    published_date: datetime.datetime = Field(default_factory=datetime.datetime.now)\n",
    "    rating: Optional[float] = None"
   ]
  },
  {
   "cell_type": "code",
   "execution_count": null,
   "metadata": {},
   "outputs": [],
   "source": []
  }
 ],
 "metadata": {
  "kernelspec": {
   "display_name": "api_env",
   "language": "python",
   "name": "python3"
  },
  "language_info": {
   "codemirror_mode": {
    "name": "ipython",
    "version": 3
   },
   "file_extension": ".py",
   "mimetype": "text/x-python",
   "name": "python",
   "nbconvert_exporter": "python",
   "pygments_lexer": "ipython3",
   "version": "3.10.11"
  }
 },
 "nbformat": 4,
 "nbformat_minor": 2
}
