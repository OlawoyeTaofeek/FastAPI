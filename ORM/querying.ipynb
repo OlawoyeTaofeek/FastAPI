{
 "cells": [
  {
   "cell_type": "code",
   "execution_count": 5,
   "metadata": {},
   "outputs": [
    {
     "name": "stdout",
     "output_type": "stream",
     "text": [
      "alice123 has a role of Admin\n",
      "bob456 has a role of Admin\n",
      "charlie789 has a role of Editor\n",
      "david000 has a role of Viewer\n",
      "eve999 has a role of Viewer\n"
     ]
    }
   ],
   "source": [
    "from database import SessionLocal\n",
    "from sql_alchemy_orm import User, Role  \n",
    "\n",
    "\n",
    "session = SessionLocal()\n",
    "# Query all users\n",
    "users = session.query(User).all()\n",
    "for user in users:\n",
    "    print(f\"{user.username} has a role of {user.role.name}\")"
   ]
  },
  {
   "cell_type": "code",
   "execution_count": 6,
   "metadata": {},
   "outputs": [
    {
     "name": "stdout",
     "output_type": "stream",
     "text": [
      "User not found.\n"
     ]
    }
   ],
   "source": [
    "# Query user by username\n",
    "user = session.query(User).filter(User.username == 'john_doe').first()\n",
    "\n",
    "if user:\n",
    "    print(f\"User found: {user.name}, {user.email}\")\n",
    "else:\n",
    "    print(\"User not found.\")\n"
   ]
  },
  {
   "cell_type": "markdown",
   "metadata": {},
   "source": [
    "### Filtering with `filter` (WHERE clause):"
   ]
  },
  {
   "cell_type": "code",
   "execution_count": 7,
   "metadata": {},
   "outputs": [
    {
     "data": {
      "text/plain": [
       "'Alice'"
      ]
     },
     "execution_count": 7,
     "metadata": {},
     "output_type": "execute_result"
    }
   ],
   "source": [
    "user = session.query(User).filter(User.username == 'alice123').first()\n",
    "user.name"
   ]
  },
  {
   "cell_type": "markdown",
   "metadata": {},
   "source": [
    "### Using `filter_by` (for simpler filters):\n",
    "`filter_by()` is another method to apply filters, which is a bit simpler compared to `filter()`. It's mainly used for equality checks."
   ]
  },
  {
   "cell_type": "code",
   "execution_count": 8,
   "metadata": {},
   "outputs": [
    {
     "name": "stdout",
     "output_type": "stream",
     "text": [
      "User found: Alice, alice@email.com\n"
     ]
    }
   ],
   "source": [
    "user = session.query(User).filter_by(username='alice123').first()\n",
    "\n",
    "if user:\n",
    "    print(f\"User found: {user.name}, {user.email}\")\n",
    "else:\n",
    "    print(\"User not found.\")"
   ]
  },
  {
   "cell_type": "markdown",
   "metadata": {},
   "source": [
    "Combining Filters with `and_` or `or_`"
   ]
  },
  {
   "cell_type": "code",
   "execution_count": 9,
   "metadata": {},
   "outputs": [
    {
     "name": "stdout",
     "output_type": "stream",
     "text": [
      "User not found.\n"
     ]
    }
   ],
   "source": [
    "# Example: Query users by both username and role ID\n",
    "from sqlalchemy import and_, or_, func\n",
    "\n",
    "user = session.query(User).filter(and_(User.username == 'john_doe', User.role_id == 1)).first()\n",
    "\n",
    "if user:\n",
    "    print(f\"User found: {user.name}, {user.email}\")\n",
    "else:\n",
    "    print(\"User not found.\")"
   ]
  },
  {
   "cell_type": "code",
   "execution_count": 10,
   "metadata": {},
   "outputs": [
    {
     "name": "stdout",
     "output_type": "stream",
     "text": [
      "User found: Alice, 1\n"
     ]
    }
   ],
   "source": [
    "user = session.query(User).filter(and_(User.username == 'alice123', User.role_id == 1)).first()\n",
    "if user:\n",
    "    print(f\"User found: {user.name}, {user.role_id}\")\n",
    "else:\n",
    "    print(\"User not found.\")"
   ]
  },
  {
   "cell_type": "markdown",
   "metadata": {},
   "source": [
    "### `.first()` vs `.all()`\n",
    "- `.first()` → Returns only the first matching record (if any) or None if no records match.\n",
    "- `.all()` → Returns a list of all matching records."
   ]
  },
  {
   "cell_type": "code",
   "execution_count": 12,
   "metadata": {},
   "outputs": [
    {
     "name": "stdout",
     "output_type": "stream",
     "text": [
      "User found: Alice, alice123\n"
     ]
    }
   ],
   "source": [
    "# Query user by username or email\n",
    "user = session.query(User).filter(or_(User.username == 'alice123', User.email == 'bob@email.com')).first()\n",
    "\n",
    "if user:\n",
    "    print(f\"User found: {user.name}, {user.username}\")\n",
    "else:\n",
    "    print(\"User not found.\")"
   ]
  },
  {
   "cell_type": "code",
   "execution_count": 14,
   "metadata": {},
   "outputs": [
    {
     "name": "stdout",
     "output_type": "stream",
     "text": [
      "User found: Alice, alice123\n",
      "User found: Bob, bob456\n"
     ]
    }
   ],
   "source": [
    "# Query user by username or email\n",
    "users = session.query(User).filter(or_(User.username == 'alice123', User.email == 'bob@email.com')).all()\n",
    "if users:\n",
    "    for user in users:\n",
    "        print(f\"User found: {user.name}, {user.username}\")\n",
    "else:\n",
    "    print(\"No users found.\")"
   ]
  },
  {
   "cell_type": "code",
   "execution_count": 15,
   "metadata": {},
   "outputs": [
    {
     "name": "stdout",
     "output_type": "stream",
     "text": [
      "User found: Alice, alice123\n"
     ]
    }
   ],
   "source": [
    "## Using the startswith() and endswith() methods\n",
    "users = session.query(User).filter(User.username.startswith('al')).all()\n",
    "\n",
    "for user in users:\n",
    "    print(f\"User found: {user.name}, {user.username}\")"
   ]
  },
  {
   "cell_type": "code",
   "execution_count": 16,
   "metadata": {},
   "outputs": [],
   "source": [
    "## find all users with 'gmail' in their email address\n",
    "users = session.query(User).filter(User.email.endswith('@gmail.com')).all()\n",
    "\n",
    "for user in users:\n",
    "    print(f\"User found: {user.name}, {user.email}\")\n"
   ]
  },
  {
   "cell_type": "markdown",
   "metadata": {},
   "source": [
    "`like()` – Pattern matching using `%` (wildcards)"
   ]
  },
  {
   "cell_type": "code",
   "execution_count": 17,
   "metadata": {},
   "outputs": [
    {
     "name": "stdout",
     "output_type": "stream",
     "text": [
      "User found: Bob, bob456\n"
     ]
    }
   ],
   "source": [
    "users = session.query(User).filter(User.username.like('%bob%')).all()\n",
    "\n",
    "for user in users:\n",
    "    print(f\"User found: {user.name}, {user.username}\")"
   ]
  },
  {
   "cell_type": "markdown",
   "metadata": {},
   "source": [
    "- `%` matches any number of characters.\n",
    "- This finds usernames containing `\"bob\"` anywhere (e.g., `\"big_bob\"`, `\"robert_bobson\"`).\n"
   ]
  },
  {
   "cell_type": "code",
   "execution_count": 19,
   "metadata": {},
   "outputs": [
    {
     "name": "stdout",
     "output_type": "stream",
     "text": [
      "No users found.\n"
     ]
    }
   ],
   "source": [
    "users = session.query(User).filter(\n",
    "    and_(\n",
    "        User.username.startswith('a'),\n",
    "        User.email.endswith('@yahoo.com')\n",
    "    )\n",
    ").all()\n",
    "if users:\n",
    "    for user in users:\n",
    "        print(f\"User found: {user.name}, {user.username}, {user.email}\")\n",
    "else:\n",
    "    print(\"No users found.\")"
   ]
  },
  {
   "cell_type": "code",
   "execution_count": 20,
   "metadata": {},
   "outputs": [
    {
     "name": "stdout",
     "output_type": "stream",
     "text": [
      "User found: Alice, alice123\n",
      "User found: Bob, bob456\n",
      "User found: Charlie, charlie789\n"
     ]
    }
   ],
   "source": [
    "## Using `in_()` for multiple values\n",
    "users = session.query(User).filter(User.username.in_(['alice123', \n",
    "                                                'bob456', 'charlie789'])).all()\n",
    "\n",
    "for user in users:\n",
    "    print(f\"User found: {user.name}, {user.username}\")\n"
   ]
  },
  {
   "cell_type": "code",
   "execution_count": 21,
   "metadata": {},
   "outputs": [
    {
     "name": "stdout",
     "output_type": "stream",
     "text": [
      "User found: Alice, alice123\n",
      "User found: Bob, bob456\n",
      "User found: Charlie, charlie789\n",
      "User found: David, david000\n",
      "User found: Eve, eve999\n"
     ]
    }
   ],
   "source": [
    "## not_in_()` for multiple values\n",
    "users = session.query(User).filter(~User.username.in_(['admin', 'superuser'])).all()\n",
    "\n",
    "for user in users:\n",
    "    print(f\"User found: {user.name}, {user.username}\")\n"
   ]
  },
  {
   "cell_type": "code",
   "execution_count": 36,
   "metadata": {},
   "outputs": [],
   "source": [
    "session.rollback()"
   ]
  },
  {
   "cell_type": "code",
   "execution_count": 26,
   "metadata": {},
   "outputs": [
    {
     "name": "stdout",
     "output_type": "stream",
     "text": [
      "User found: Alice, Admin\n",
      "User found: Bob, Admin\n",
      "User found: Charlie, Editor\n",
      "User found: David, Viewer\n",
      "User found: Eve, Viewer\n"
     ]
    }
   ],
   "source": [
    "## is_() and is_not() for exact matches\n",
    "\n",
    "users_with_role = session.query(User).filter(User.role_id.isnot(None)).all()\n",
    "\n",
    "for user in users_with_role:\n",
    "    print(f\"User found: {user.name}, {user.role.name}\")"
   ]
  },
  {
   "cell_type": "code",
   "execution_count": 28,
   "metadata": {},
   "outputs": [
    {
     "name": "stdout",
     "output_type": "stream",
     "text": [
      "Users without role:\n"
     ]
    }
   ],
   "source": [
    "users_without_role = session.query(User).filter(User.role_id.is_(None)).all()\n",
    "print(\"Users without role:\")\n",
    "\n",
    "for user in users_without_role:\n",
    "    print(f\"User found: {user.name}\")"
   ]
  },
  {
   "cell_type": "code",
   "execution_count": 29,
   "metadata": {},
   "outputs": [
    {
     "name": "stdout",
     "output_type": "stream",
     "text": [
      "Alice alice123\n",
      "Bob bob456\n",
      "Charlie charlie789\n",
      "David david000\n",
      "Eve eve999\n"
     ]
    }
   ],
   "source": [
    "## Ordering results using `order_by()`\n",
    "# Query all users and order by name\n",
    "users = session.query(User).order_by(User.name).all()\n",
    "\n",
    "for user in users:\n",
    "    print(user.name, user.username)"
   ]
  },
  {
   "cell_type": "code",
   "execution_count": 30,
   "metadata": {},
   "outputs": [
    {
     "name": "stdout",
     "output_type": "stream",
     "text": [
      "Eve eve999\n",
      "David david000\n",
      "Charlie charlie789\n",
      "Bob bob456\n",
      "Alice alice123\n"
     ]
    }
   ],
   "source": [
    "# Query all users and order by name in descending order\n",
    "users = session.query(User).order_by(User.name.desc()).all()\n",
    "\n",
    "for user in users:\n",
    "    print(user.name, user.username)"
   ]
  },
  {
   "cell_type": "code",
   "execution_count": 32,
   "metadata": {},
   "outputs": [
    {
     "name": "stdout",
     "output_type": "stream",
     "text": [
      "Total users: 5\n"
     ]
    }
   ],
   "source": [
    "## counting records using `count()`\n",
    "# Count the number of users\n",
    "user_count = session.query(User).count()\n",
    "print(f\"Total users: {user_count}\")"
   ]
  },
  {
   "cell_type": "code",
   "execution_count": 33,
   "metadata": {},
   "outputs": [
    {
     "name": "stdout",
     "output_type": "stream",
     "text": [
      "Total users with role ID 1: 2\n"
     ]
    }
   ],
   "source": [
    "### Example: Count users by role ID\n",
    "# Count users by role_id\n",
    "role_id = 1\n",
    "role_user_count = session.query(User).filter(User.role_id == role_id).count()\n",
    "print(f\"Total users with role ID {role_id}: {role_user_count}\")"
   ]
  },
  {
   "cell_type": "code",
   "execution_count": 37,
   "metadata": {},
   "outputs": [
    {
     "name": "stdout",
     "output_type": "stream",
     "text": [
      "Total users with role ID 3: 2\n",
      "Total users with role ID 2: 1\n",
      "Total users with role ID 1: 2\n"
     ]
    }
   ],
   "source": [
    "from sqlalchemy import func\n",
    "\n",
    "users_by_role = (\n",
    "    session.query(User.role_id, func.count(User.id))\n",
    "    .group_by(User.role_id)\n",
    "    .all()\n",
    ")\n",
    "\n",
    "for role_id, user_count in users_by_role:\n",
    "    print(f\"Total users with role ID {role_id}: {user_count}\")"
   ]
  },
  {
   "cell_type": "code",
   "execution_count": null,
   "metadata": {},
   "outputs": [
    {
     "name": "stdout",
     "output_type": "stream",
     "text": [
      "Total users with role 'Admin': 2\n",
      "Total users with role 'Viewer': 2\n",
      "Total users with role 'Editor': 1\n"
     ]
    }
   ],
   "source": [
    "from sqlalchemy import func\n",
    "from sqlalchemy.orm import joinedload\n",
    "\n",
    "users_by_role = (\n",
    "    session.query(Role.name, func.count(User.id))\n",
    "    .join(User, User.role_id == Role.id)  # Join the Role table\n",
    "    .group_by(Role.name)\n",
    "    .all()\n",
    ")\n",
    "\n",
    "for role_, user_count in users_by_role:\n",
    "    print(f\"Total users with role '{role_}': {user_count}\")"
   ]
  },
  {
   "cell_type": "markdown",
   "metadata": {},
   "source": [
    "👉 Best Practice: If you need `User.role.name` inside `.query()`, use `.join(Role)`. If you just want users with roles preloaded, use `.options(joinedload(User.role))`."
   ]
  },
  {
   "cell_type": "code",
   "execution_count": 39,
   "metadata": {},
   "outputs": [
    {
     "name": "stdout",
     "output_type": "stream",
     "text": [
      "User: Alice, Role: Admin\n",
      "User: Bob, Role: Admin\n",
      "User: Charlie, Role: Editor\n",
      "User: David, Role: Viewer\n",
      "User: Eve, Role: Viewer\n"
     ]
    }
   ],
   "source": [
    "from sqlalchemy.orm import joinedload\n",
    "\n",
    "users = session.query(User).options(joinedload(User.role)).all()\n",
    "\n",
    "for user in users:\n",
    "    print(f\"User: {user.name}, Role: {user.role.name}\")  # ✅ Works because role is preloaded"
   ]
  },
  {
   "cell_type": "code",
   "execution_count": null,
   "metadata": {},
   "outputs": [],
   "source": []
  }
 ],
 "metadata": {
  "kernelspec": {
   "display_name": "api_env",
   "language": "python",
   "name": "python3"
  },
  "language_info": {
   "codemirror_mode": {
    "name": "ipython",
    "version": 3
   },
   "file_extension": ".py",
   "mimetype": "text/x-python",
   "name": "python",
   "nbconvert_exporter": "python",
   "pygments_lexer": "ipython3",
   "version": "3.10.11"
  }
 },
 "nbformat": 4,
 "nbformat_minor": 2
}
