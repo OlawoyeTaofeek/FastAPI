{
 "cells": [
  {
   "cell_type": "code",
   "execution_count": 5,
   "metadata": {},
   "outputs": [
    {
     "name": "stdout",
     "output_type": "stream",
     "text": [
      "alice123 has a role of Admin\n",
      "bob456 has a role of Admin\n",
      "charlie789 has a role of Editor\n",
      "david000 has a role of Viewer\n",
      "eve999 has a role of Viewer\n"
     ]
    }
   ],
   "source": [
    "from database import SessionLocal\n",
    "from sql_alchemy_orm import User, Role  \n",
    "\n",
    "\n",
    "session = SessionLocal()\n",
    "# Query all users\n",
    "users = session.query(User).all()\n",
    "for user in users:\n",
    "    print(f\"{user.username} has a role of {user.role.name}\")"
   ]
  },
  {
   "cell_type": "code",
   "execution_count": 6,
   "metadata": {},
   "outputs": [
    {
     "name": "stdout",
     "output_type": "stream",
     "text": [
      "User not found.\n"
     ]
    }
   ],
   "source": [
    "# Query user by username\n",
    "user = session.query(User).filter(User.username == 'john_doe').first()\n",
    "\n",
    "if user:\n",
    "    print(f\"User found: {user.name}, {user.email}\")\n",
    "else:\n",
    "    print(\"User not found.\")\n"
   ]
  },
  {
   "cell_type": "markdown",
   "metadata": {},
   "source": [
    "### Filtering with `filter` (WHERE clause):"
   ]
  },
  {
   "cell_type": "code",
   "execution_count": 7,
   "metadata": {},
   "outputs": [
    {
     "data": {
      "text/plain": [
       "'Alice'"
      ]
     },
     "execution_count": 7,
     "metadata": {},
     "output_type": "execute_result"
    }
   ],
   "source": [
    "user = session.query(User).filter(User.username == 'alice123').first()\n",
    "user.name"
   ]
  },
  {
   "cell_type": "code",
   "execution_count": null,
   "metadata": {},
   "outputs": [],
   "source": []
  }
 ],
 "metadata": {
  "kernelspec": {
   "display_name": "api_env",
   "language": "python",
   "name": "python3"
  },
  "language_info": {
   "codemirror_mode": {
    "name": "ipython",
    "version": 3
   },
   "file_extension": ".py",
   "mimetype": "text/x-python",
   "name": "python",
   "nbconvert_exporter": "python",
   "pygments_lexer": "ipython3",
   "version": "3.10.11"
  }
 },
 "nbformat": 4,
 "nbformat_minor": 2
}
